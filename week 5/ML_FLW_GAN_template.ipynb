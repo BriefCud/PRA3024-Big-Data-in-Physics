{
  "nbformat": 4,
  "nbformat_minor": 0,
  "metadata": {
    "accelerator": "GPU",
    "colab": {
      "name": "ML_FLW_GAN_template.ipynb",
      "provenance": [],
      "collapsed_sections": [],
      "machine_shape": "hm",
      "include_colab_link": true
    },
    "kernelspec": {
      "display_name": "Python 3",
      "language": "python",
      "name": "python3"
    },
    "language_info": {
      "codemirror_mode": {
        "name": "ipython",
        "version": 3
      },
      "file_extension": ".py",
      "mimetype": "text/x-python",
      "name": "python",
      "nbconvert_exporter": "python",
      "pygments_lexer": "ipython3",
      "version": "3.7.3"
    }
  },
  "cells": [
    {
      "cell_type": "markdown",
      "metadata": {
        "id": "view-in-github",
        "colab_type": "text"
      },
      "source": [
        "<a href=\"https://colab.research.google.com/github/BriefCud/PRA3024-Big-Data-in-Physics/blob/master/week%205/ML_FLW_GAN_template.ipynb\" target=\"_parent\"><img src=\"https://colab.research.google.com/assets/colab-badge.svg\" alt=\"Open In Colab\"/></a>"
      ]
    },
    {
      "cell_type": "code",
      "metadata": {
        "colab_type": "code",
        "id": "KH_fIMnXB_aI",
        "outputId": "bbf5e88d-d1e4-4093-8d25-b12102d953b9",
        "colab": {
          "base_uri": "https://localhost:8080/",
          "height": 391
        }
      },
      "source": [
        "# training GANS is a slow process: be sure to switch to hardware accelerator GPU in 'change runtime type', and switch to high-RAM when prompted.\n",
        "\n",
        "# Download dataset\n",
        "!wget http://www.cs.columbia.edu/CAVE/databases/pubfig/download/lfw_attributes.txt\n",
        "!wget http://vis-www.cs.umass.edu/lfw/lfw-funneled.tgz # 233 MB!\n",
        "!tar -xf lfw-funneled.tgz"
      ],
      "execution_count": 2,
      "outputs": [
        {
          "output_type": "stream",
          "text": [
            "--2020-03-14 10:14:55--  http://www.cs.columbia.edu/CAVE/databases/pubfig/download/lfw_attributes.txt\n",
            "Resolving www.cs.columbia.edu (www.cs.columbia.edu)... 128.59.11.206\n",
            "Connecting to www.cs.columbia.edu (www.cs.columbia.edu)|128.59.11.206|:80... connected.\n",
            "HTTP request sent, awaiting response... 200 OK\n",
            "Length: 14879205 (14M) [text/plain]\n",
            "Saving to: ‘lfw_attributes.txt’\n",
            "\n",
            "\rlfw_attributes.txt    0%[                    ]       0  --.-KB/s               \rlfw_attributes.txt    0%[                    ] 104.33K   465KB/s               \rlfw_attributes.txt    6%[>                   ] 898.55K  1.95MB/s               \rlfw_attributes.txt   43%[=======>            ]   6.21M  9.21MB/s               \rlfw_attributes.txt  100%[===================>]  14.19M  16.7MB/s    in 0.8s    \n",
            "\n",
            "2020-03-14 10:14:57 (16.7 MB/s) - ‘lfw_attributes.txt’ saved [14879205/14879205]\n",
            "\n",
            "--2020-03-14 10:14:59--  http://vis-www.cs.umass.edu/lfw/lfw-funneled.tgz\n",
            "Resolving vis-www.cs.umass.edu (vis-www.cs.umass.edu)... 128.119.244.95\n",
            "Connecting to vis-www.cs.umass.edu (vis-www.cs.umass.edu)|128.119.244.95|:80... connected.\n",
            "HTTP request sent, awaiting response... 200 OK\n",
            "Length: 243346528 (232M) [application/x-gzip]\n",
            "Saving to: ‘lfw-funneled.tgz’\n",
            "\n",
            "lfw-funneled.tgz    100%[===================>] 232.07M  32.2MB/s    in 9.5s    \n",
            "\n",
            "2020-03-14 10:15:09 (24.4 MB/s) - ‘lfw-funneled.tgz’ saved [243346528/243346528]\n",
            "\n"
          ],
          "name": "stdout"
        }
      ]
    },
    {
      "cell_type": "code",
      "metadata": {
        "colab_type": "code",
        "id": "qnRedA7781oU",
        "colab": {}
      },
      "source": [
        "# Some data-handling tools and imports\n",
        "\n",
        "import numpy as np\n",
        "import os\n",
        "import subprocess\n",
        "from imageio import imread\n",
        "#from scipy.misc import imresize\n",
        "#!pip install pillow\n",
        "from PIL import Image\n",
        "import pandas as pd\n",
        "\n",
        "def fetch_lfw_dataset(attrs_name = \"lfw_attributes.txt\",\n",
        "                      images_name = \"lfw-deepfunneled\",\n",
        "                      raw_images_name = \"lfw\",\n",
        "                      use_raw=False,\n",
        "                      dx=80,dy=80,\n",
        "                      dimx=45,dimy=45):\n",
        "\n",
        "    # read attrs\n",
        "    # the header row begins with a #, which we want to ignore\n",
        "    with open(attrs_name) as attributes_file:\n",
        "        attributes_file.readline()\n",
        "        ugly_header = attributes_file.read(2)\n",
        "        assert ugly_header == \"#\\t\"\n",
        "        df_attrs = pd.read_csv(attributes_file, sep='\\t', skipinitialspace=True)\n",
        "        #print(df_attrs) \n",
        "        #print(df_attrs.columns.values.tolist())\n",
        "    \n",
        "    #read photos\n",
        "    dirname = raw_images_name if use_raw else images_name\n",
        "    photo_ids = []\n",
        "    initial_depth = dirname.count(os.sep)\n",
        "    for dirpath, dirnames, filenames in os.walk(dirname):\n",
        "        if dirpath.count(os.sep) - initial_depth > 1:\n",
        "            continue\n",
        "        for fname in filenames:\n",
        "            if fname.endswith(\".jpg\"):\n",
        "                photo_id = fname[:-4].replace('_',' ').split()\n",
        "                person_id = ' '.join(photo_id[:-1])\n",
        "                photo_number = int(photo_id[-1])\n",
        "                fpath = os.path.join(dirpath, fname)\n",
        "                photo_ids.append({'person':person_id,'imagenum':photo_number,'photo_path':fpath})\n",
        "\n",
        "    photo_ids = pd.DataFrame(photo_ids)\n",
        "\n",
        "    # mass-merge\n",
        "    # (photos now have same order as attributes)\n",
        "    df = pd.merge(df_attrs,photo_ids,on=('person','imagenum'))\n",
        "\n",
        "    assert len(df)==len(df_attrs),\"lost some data when merging dataframes\"\n",
        "\n",
        "    #image preprocessing\n",
        "    all_photos =df['photo_path'].apply(imread)\\\n",
        "                                .apply(lambda img:img[dy:-dy,dx:-dx])\\\n",
        "                                .apply(lambda img: Image.fromarray(img).resize([dimx,dimy]) )\n",
        "\n",
        "    all_photos = np.stack(all_photos.values).astype('uint8')\n",
        "    all_attrs = df.drop([\"photo_path\",\"person\",\"imagenum\"], axis=1)\n",
        "    \n",
        "    return all_photos, all_attrs"
      ],
      "execution_count": 0,
      "outputs": []
    },
    {
      "cell_type": "code",
      "metadata": {
        "colab_type": "code",
        "id": "eyFG9F6b_P1R",
        "colab": {
          "base_uri": "https://localhost:8080/",
          "height": 34
        },
        "outputId": "a676c5b9-e3e2-4582-d1ee-2aee55236cb9"
      },
      "source": [
        "# Fetch the datasets of faces\n",
        "\n",
        "#%env CUDA_VISIBLE_DEVICES=0\n",
        "\n",
        "import matplotlib.pyplot as plt\n",
        "%matplotlib inline\n",
        "import numpy as np\n",
        "plt.rcParams.update({'axes.titlesize': 'small'})\n",
        "\n",
        "# a utility to load the dataset\n",
        "data, _ = fetch_lfw_dataset(dimx=36, dimy=36,\n",
        "                            images_name=\"lfw_funneled\",\n",
        "                            attrs_name=\"lfw_attributes.txt\",\n",
        "                            )\n",
        "\n",
        "# preprocess faces\n",
        "data = np.float32(data)/255.\n",
        "\n",
        "IMG_SHAPE = data.shape[1:]\n",
        "\n",
        "print(IMG_SHAPE)"
      ],
      "execution_count": 4,
      "outputs": [
        {
          "output_type": "stream",
          "text": [
            "(36, 36, 3)\n"
          ],
          "name": "stdout"
        }
      ]
    },
    {
      "cell_type": "code",
      "metadata": {
        "colab_type": "code",
        "id": "T1-_inEph8dO",
        "outputId": "07b707c0-c2da-4599-9342-e6a2268dcb63",
        "colab": {
          "base_uri": "https://localhost:8080/",
          "height": 223
        }
      },
      "source": [
        "# show some random (real) faces from our dataset\n",
        "\n",
        "plt.figure(figsize=[18, 18])\n",
        "plt.axis('off');\n",
        "\n",
        "for i in range(5):\n",
        "  plt.subplot(1,5,i+1)\n",
        "  plt.imshow(data[np.random.randint(data.shape[0])], cmap=\"gray\", interpolation=\"none\")\n"
      ],
      "execution_count": 5,
      "outputs": [
        {
          "output_type": "display_data",
          "data": {
            "image/png": "[encoded data removed]",
            "text/plain": [
              "<Figure size 1296x1296 with 5 Axes>"
            ]
          },
          "metadata": {
            "tags": []
          }
        }
      ]
    },
    {
      "cell_type": "code",
      "metadata": {
        "colab_type": "code",
        "id": "PuCdxa1wGT2K",
        "outputId": "8b106270-2d2f-4e73-a7b3-d86ed98ca887",
        "colab": {
          "base_uri": "https://localhost:8080/",
          "height": 80
        }
      },
      "source": [
        "import tensorflow as tf\n",
        "\n",
        "# Plese don't run tensorfow without this config. Without it you'll take the whole memory of the GPU\n",
        "# and make it unusable by anyone else\n",
        "#gpu_options = tf.GPUOptions(allow_growth=True)\n",
        "#sess = tf.InteractiveSession(config=tf.ConfigProto(gpu_options=gpu_options))\n",
        "# Edit: for colab, resources are limited on the server-side. Go hog.\n",
        "sess = tf.InteractiveSession()\n",
        "\n",
        "\n",
        "import keras\n",
        "from keras.models import Sequential\n",
        "from keras import layers as L\n",
        "from functools import partial"
      ],
      "execution_count": 6,
      "outputs": [
        {
          "output_type": "display_data",
          "data": {
            "text/html": [
              "<p style=\"color: red;\">\n",
              "The default version of TensorFlow in Colab will soon switch to TensorFlow 2.x.<br>\n",
              "We recommend you <a href=\"https://www.tensorflow.org/guide/migrate\" target=\"_blank\">upgrade</a> now \n",
              "or ensure your notebook will continue to use TensorFlow 1.x via the <code>%tensorflow_version 1.x</code> magic:\n",
              "<a href=\"https://colab.research.google.com/notebooks/tensorflow_version.ipynb\" target=\"_blank\">more info</a>.</p>\n"
            ],
            "text/plain": [
              "<IPython.core.display.HTML object>"
            ]
          },
          "metadata": {
            "tags": []
          }
        },
        {
          "output_type": "stream",
          "text": [
            "Using TensorFlow backend.\n"
          ],
          "name": "stderr"
        }
      ]
    },
    {
      "cell_type": "code",
      "metadata": {
        "colab_type": "code",
        "id": "fJEchmd_VM9b",
        "colab": {}
      },
      "source": [
        "# If we can't tell good faces from bad, we delegate it to yet another neural network!\n",
        "# That makes two of them:\n",
        "# Generator - takes random noise for inspiration and tries to generate a face sample.\n",
        "# Let's call him G(z), where z is a gaussian noize.\n",
        "# Discriminator - takes a face sample and tries to tell if it's real or fake.\n",
        "# Predicts the probability of input image being a real face\n",
        "# Let's call him D(x), x being an image.\n",
        "# D(x) is a prediction for real image and D(G(z)) is prediction for the face made by generator.\n",
        "\n",
        "# Now it's your choise which GAN to build: Jensen-Shannon, or Wasserstein \n",
        "# In addition to the theoretical difference, a couple of practical matters: \n",
        "#  Jensen-Shannon GAN should learn several times faster, but is more sensitive to mode collapse and vanishing gradients. \n",
        "#  Wasserstein GAN doesn't go well in company of batch normalization and ELU activation.\n",
        "\n",
        "GAN_TYPE = \"Jensen-Shannon\"\n",
        "#GAN_TYPE = \"Wasserstein\""
      ],
      "execution_count": 0,
      "outputs": []
    },
    {
      "cell_type": "code",
      "metadata": {
        "colab_type": "code",
        "id": "Lcqgo4RiVNwv",
        "outputId": "b4390c37-4b0a-47b8-bd18-917271ec38c3",
        "colab": {
          "base_uri": "https://localhost:8080/",
          "height": 1000
        }
      },
      "source": [
        "# Make the Generator. \n",
        "\n",
        "CODE_SIZE = 256\n",
        "\n",
        "# Activations experimentally selected. Will most likely work\n",
        "# for other combinations of activations/architectures\n",
        "if GAN_TYPE == \"Wasserstein\":\n",
        "    generator_activation = partial(keras.activations.relu, alpha=0)\n",
        "elif GAN_TYPE == \"Jensen-Shannon\":\n",
        "    generator_activation = keras.activations.elu\n",
        "\n",
        "with tf.name_scope(\"Generator\"):\n",
        "  # A few Deconv layers. Feel free to add more, but that will make learning even slower\n",
        "  generator = Sequential(name=\"Generator\")\n",
        "  \n",
        "  generator.add(L.InputLayer([CODE_SIZE],name='noise'))\n",
        "\n",
        "  ### change to 8*9*9\n",
        "  generator.add(L.Dense(9*9*9, activation=generator_activation))\n",
        "\n",
        "  ### STUDENT CODE HERE ###\n",
        "\n",
        "  ### Got some code from these sources\n",
        "  ### https://github.com/jeffheaton/t81_558_deep_learning/blob/master/t81_558_class_07_2_Keras_gan.ipynb \n",
        "\n",
        "  ### --> Write the network for the Generator.\n",
        "  ###  It takes a random sample as input (size CODE_SIZE) and generates a face with FIGURE_SIZE output size.\n",
        "  ###  To enlarge from CODE_SIZE to FIGURE_SIZE (#pix_x by #pix_y by #rgb) you need to use \n",
        "  ###  some Deconvolution2D and UpSampling2D layers. \n",
        "  ###  Make sure to use the 'generator_activation' as activation.\n",
        "  ###  A typical network size has ~300,000 free parameters.\n",
        "\n",
        "  generator.add(L.Reshape((9,9,9)))\n",
        "\n",
        "  generator.add(L.UpSampling2D())\n",
        "  generator.add(L.Conv2D(256,kernel_size=3,padding=\"same\"))\n",
        "  generator.add(L.BatchNormalization(momentum=0.8))\n",
        "  generator.add(L.Activation(\"relu\"))\n",
        "\n",
        "  generator.add(L.UpSampling2D((2,2)))\n",
        "  generator.add(L.Conv2D(256,kernel_size=3,padding=\"same\"))\n",
        "  generator.add(L.BatchNormalization(momentum=0.8))\n",
        "  generator.add(L.Activation(\"relu\"))\n",
        "  \n",
        "  # Output resolution, additional upsampling\n",
        "  # generator.add(L.UpSampling2D())\n",
        "  generator.add(L.Conv2D(128,kernel_size=3,padding=\"same\"))\n",
        "  generator.add(L.BatchNormalization(momentum=0.8))\n",
        "  generator.add(L.Activation(\"relu\"))\n",
        "  \n",
        "  ### padding the output so the image size stays the same\n",
        "  generator.add(L.ZeroPadding2D(((1, 1), (1, 1))))\n",
        "\n",
        "  ### END STUDENT CODE ###\n",
        "  \n",
        "  generator.add(L.Conv2D(3,kernel_size=3,activation=\"tanh\"))\n",
        "\n",
        "  assert generator.output_shape[1:] == IMG_SHAPE, \\\n",
        "  \"generator must output an image of shape %s, but instead it produces %s\" % \\\n",
        "      (IMG_SHAPE, generator.output_shape[1:])\n",
        "\n",
        "  generator.summary()"
      ],
      "execution_count": 9,
      "outputs": [
        {
          "output_type": "stream",
          "text": [
            "WARNING:tensorflow:From /usr/local/lib/python3.6/dist-packages/keras/backend/tensorflow_backend.py:541: The name tf.placeholder is deprecated. Please use tf.compat.v1.placeholder instead.\n",
            "\n",
            "WARNING:tensorflow:From /usr/local/lib/python3.6/dist-packages/keras/backend/tensorflow_backend.py:66: The name tf.get_default_graph is deprecated. Please use tf.compat.v1.get_default_graph instead.\n",
            "\n",
            "WARNING:tensorflow:From /usr/local/lib/python3.6/dist-packages/keras/backend/tensorflow_backend.py:4432: The name tf.random_uniform is deprecated. Please use tf.random.uniform instead.\n",
            "\n",
            "WARNING:tensorflow:From /usr/local/lib/python3.6/dist-packages/keras/backend/tensorflow_backend.py:2239: The name tf.image.resize_nearest_neighbor is deprecated. Please use tf.compat.v1.image.resize_nearest_neighbor instead.\n",
            "\n",
            "WARNING:tensorflow:From /usr/local/lib/python3.6/dist-packages/keras/backend/tensorflow_backend.py:190: The name tf.get_default_session is deprecated. Please use tf.compat.v1.get_default_session instead.\n",
            "\n",
            "WARNING:tensorflow:From /usr/local/lib/python3.6/dist-packages/keras/backend/tensorflow_backend.py:207: The name tf.global_variables is deprecated. Please use tf.compat.v1.global_variables instead.\n",
            "\n",
            "WARNING:tensorflow:From /usr/local/lib/python3.6/dist-packages/keras/backend/tensorflow_backend.py:216: The name tf.is_variable_initialized is deprecated. Please use tf.compat.v1.is_variable_initialized instead.\n",
            "\n",
            "WARNING:tensorflow:From /usr/local/lib/python3.6/dist-packages/keras/backend/tensorflow_backend.py:223: The name tf.variables_initializer is deprecated. Please use tf.compat.v1.variables_initializer instead.\n",
            "\n",
            "WARNING:tensorflow:From /usr/local/lib/python3.6/dist-packages/keras/backend/tensorflow_backend.py:2041: The name tf.nn.fused_batch_norm is deprecated. Please use tf.compat.v1.nn.fused_batch_norm instead.\n",
            "\n",
            "WARNING:tensorflow:From /usr/local/lib/python3.6/dist-packages/keras/backend/tensorflow_backend.py:148: The name tf.placeholder_with_default is deprecated. Please use tf.compat.v1.placeholder_with_default instead.\n",
            "\n",
            "Model: \"Generator\"\n",
            "_________________________________________________________________\n",
            "Layer (type)                 Output Shape              Param #   \n",
            "=================================================================\n",
            "dense_1 (Dense)              (None, 729)               187353    \n",
            "_________________________________________________________________\n",
            "reshape_1 (Reshape)          (None, 9, 9, 9)           0         \n",
            "_________________________________________________________________\n",
            "up_sampling2d_1 (UpSampling2 (None, 18, 18, 9)         0         \n",
            "_________________________________________________________________\n",
            "conv2d_1 (Conv2D)            (None, 18, 18, 256)       20992     \n",
            "_________________________________________________________________\n",
            "batch_normalization_1 (Batch (None, 18, 18, 256)       1024      \n",
            "_________________________________________________________________\n",
            "activation_1 (Activation)    (None, 18, 18, 256)       0         \n",
            "_________________________________________________________________\n",
            "up_sampling2d_2 (UpSampling2 (None, 36, 36, 256)       0         \n",
            "_________________________________________________________________\n",
            "conv2d_2 (Conv2D)            (None, 36, 36, 256)       590080    \n",
            "_________________________________________________________________\n",
            "batch_normalization_2 (Batch (None, 36, 36, 256)       1024      \n",
            "_________________________________________________________________\n",
            "activation_2 (Activation)    (None, 36, 36, 256)       0         \n",
            "_________________________________________________________________\n",
            "conv2d_3 (Conv2D)            (None, 36, 36, 128)       295040    \n",
            "_________________________________________________________________\n",
            "batch_normalization_3 (Batch (None, 36, 36, 128)       512       \n",
            "_________________________________________________________________\n",
            "activation_3 (Activation)    (None, 36, 36, 128)       0         \n",
            "_________________________________________________________________\n",
            "zero_padding2d_1 (ZeroPaddin (None, 38, 38, 128)       0         \n",
            "_________________________________________________________________\n",
            "conv2d_4 (Conv2D)            (None, 36, 36, 3)         3459      \n",
            "=================================================================\n",
            "Total params: 1,099,484\n",
            "Trainable params: 1,098,204\n",
            "Non-trainable params: 1,280\n",
            "_________________________________________________________________\n"
          ],
          "name": "stdout"
        }
      ]
    },
    {
      "cell_type": "code",
      "metadata": {
        "colab_type": "code",
        "id": "rwfLGErCVXoL",
        "outputId": "33f762ca-f945-4d73-95db-2412de8f9ac6",
        "colab": {
          "base_uri": "https://localhost:8080/",
          "height": 972
        }
      },
      "source": [
        "# Make the Discriminator.\n",
        "\n",
        "# It is your usual convolutional network with interlooping convolution and pooling layers:\n",
        "#  It takes a figure as input, and a simple output to separate \"Yes\" (figure is real) and \"No\" (figure is fake)\n",
        "# The network does not include dropout/batchnorm to avoid learning complications.\n",
        "# We also regularize the pre-output layer to prevent discriminator from being too certain.\n",
        "\n",
        "\n",
        "discriminator_activation = partial(keras.activations.relu, alpha=0.3)\n",
        "\n",
        "with tf.name_scope(\"Discriminator\"):\n",
        "  discriminator = Sequential(name=\"Discriminator\")\n",
        "  discriminator.add(L.InputLayer(IMG_SHAPE))\n",
        "\n",
        "  ### STUDENT CODE HERE ###\n",
        "\n",
        "  ### The discriminator’s job is to take an image and try to decide if it is real or fake\n",
        "\n",
        "  ### Build the network for the Discriminator. \n",
        "  ### Typically described as 'Roughly the inverse of the generator'.\n",
        "  ### As the discriminator needs to learn complex features, a series of multiple Conv2D \n",
        "  ### layers is recommended, alternated with some MaxPool2D layers to filter out the relevant kernels.\n",
        "  ### A final Flatten and Dense layer is recommended to learn the interesting combinations of kernels.\n",
        "  ### Be sure to use the discriminator_activation as activation for each layer.\n",
        "  ### A typical network has a size of ~400,000 free parameters.\n",
        "\n",
        "  discriminator.add(L.Conv2D(32, kernel_size=3, strides=2, input_shape=IMG_SHAPE, padding=\"same\"))\n",
        "  discriminator.add(L.LeakyReLU(alpha=0.2))\n",
        "\n",
        "  discriminator.add(L.Dropout(0.25))\n",
        "  discriminator.add(L.Conv2D(64, kernel_size=3, strides=2, padding=\"same\"))\n",
        "  discriminator.add(L.ZeroPadding2D(padding=((0,1),(0,1))))\n",
        "  discriminator.add(L.BatchNormalization(momentum=0.8))\n",
        "  discriminator.add(L.LeakyReLU(alpha=0.2))\n",
        "\n",
        "  discriminator.add(L.Dropout(0.25))\n",
        "  discriminator.add(L.Conv2D(128, kernel_size=3, strides=2, padding=\"same\"))\n",
        "  discriminator.add(L.BatchNormalization(momentum=0.8))\n",
        "  discriminator.add(L.LeakyReLU(alpha=0.2))\n",
        "\n",
        "  discriminator.add(L.Dropout(0.25))\n",
        "  discriminator.add(L.Conv2D(256, kernel_size=3, strides=1, padding=\"same\"))\n",
        "  discriminator.add(L.BatchNormalization(momentum=0.8))\n",
        "  discriminator.add(L.LeakyReLU(alpha=0.2))\n",
        "\n",
        "  discriminator.add(L.Dropout(0.25))\n",
        "  discriminator.add(L.Conv2D(512, kernel_size=3, strides=1, padding=\"same\"))\n",
        "  discriminator.add(L.BatchNormalization(momentum=0.8))\n",
        "  discriminator.add(L.LeakyReLU(alpha=0.2))\n",
        "\n",
        "  discriminator.add(L.Dropout(0.25))\n",
        "  discriminator.add(L.Flatten())\n",
        "  \n",
        "\n",
        "  ### END STUDENT CODE ###\n",
        "  \n",
        "  if GAN_TYPE == \"Wasserstein\":\n",
        "      # Wasserstein discriminator values are unconstrained\n",
        "      discriminator.add(L.Dense(1))\n",
        "  elif GAN_TYPE == \"Jensen-Shannon\":\n",
        "      # Jensen-Shannon expects probabilities\n",
        "      discriminator.add(L.Dense(2, activation=tf.nn.log_softmax))\n",
        "\n",
        "  discriminator.summary()"
      ],
      "execution_count": 10,
      "outputs": [
        {
          "output_type": "stream",
          "text": [
            "WARNING:tensorflow:From /usr/local/lib/python3.6/dist-packages/keras/backend/tensorflow_backend.py:3733: calling dropout (from tensorflow.python.ops.nn_ops) with keep_prob is deprecated and will be removed in a future version.\n",
            "Instructions for updating:\n",
            "Please use `rate` instead of `keep_prob`. Rate should be set to `rate = 1 - keep_prob`.\n",
            "Model: \"Discriminator\"\n",
            "_________________________________________________________________\n",
            "Layer (type)                 Output Shape              Param #   \n",
            "=================================================================\n",
            "conv2d_5 (Conv2D)            (None, 18, 18, 32)        896       \n",
            "_________________________________________________________________\n",
            "leaky_re_lu_1 (LeakyReLU)    (None, 18, 18, 32)        0         \n",
            "_________________________________________________________________\n",
            "dropout_1 (Dropout)          (None, 18, 18, 32)        0         \n",
            "_________________________________________________________________\n",
            "conv2d_6 (Conv2D)            (None, 9, 9, 64)          18496     \n",
            "_________________________________________________________________\n",
            "zero_padding2d_2 (ZeroPaddin (None, 10, 10, 64)        0         \n",
            "_________________________________________________________________\n",
            "batch_normalization_4 (Batch (None, 10, 10, 64)        256       \n",
            "_________________________________________________________________\n",
            "leaky_re_lu_2 (LeakyReLU)    (None, 10, 10, 64)        0         \n",
            "_________________________________________________________________\n",
            "dropout_2 (Dropout)          (None, 10, 10, 64)        0         \n",
            "_________________________________________________________________\n",
            "conv2d_7 (Conv2D)            (None, 5, 5, 128)         73856     \n",
            "_________________________________________________________________\n",
            "batch_normalization_5 (Batch (None, 5, 5, 128)         512       \n",
            "_________________________________________________________________\n",
            "leaky_re_lu_3 (LeakyReLU)    (None, 5, 5, 128)         0         \n",
            "_________________________________________________________________\n",
            "dropout_3 (Dropout)          (None, 5, 5, 128)         0         \n",
            "_________________________________________________________________\n",
            "conv2d_8 (Conv2D)            (None, 5, 5, 256)         295168    \n",
            "_________________________________________________________________\n",
            "batch_normalization_6 (Batch (None, 5, 5, 256)         1024      \n",
            "_________________________________________________________________\n",
            "leaky_re_lu_4 (LeakyReLU)    (None, 5, 5, 256)         0         \n",
            "_________________________________________________________________\n",
            "dropout_4 (Dropout)          (None, 5, 5, 256)         0         \n",
            "_________________________________________________________________\n",
            "conv2d_9 (Conv2D)            (None, 5, 5, 512)         1180160   \n",
            "_________________________________________________________________\n",
            "batch_normalization_7 (Batch (None, 5, 5, 512)         2048      \n",
            "_________________________________________________________________\n",
            "leaky_re_lu_5 (LeakyReLU)    (None, 5, 5, 512)         0         \n",
            "_________________________________________________________________\n",
            "dropout_5 (Dropout)          (None, 5, 5, 512)         0         \n",
            "_________________________________________________________________\n",
            "flatten_1 (Flatten)          (None, 12800)             0         \n",
            "_________________________________________________________________\n",
            "dense_2 (Dense)              (None, 2)                 25602     \n",
            "=================================================================\n",
            "Total params: 1,598,018\n",
            "Trainable params: 1,596,098\n",
            "Non-trainable params: 1,920\n",
            "_________________________________________________________________\n"
          ],
          "name": "stdout"
        }
      ]
    },
    {
      "cell_type": "code",
      "metadata": {
        "colab_type": "code",
        "id": "9O-mJFIVWDzP",
        "colab": {}
      },
      "source": [
        "# Helper function to create a shuffling image stream for training\n",
        "\n",
        "def get_tf_dataset(dataset, batch_size):\n",
        "    \"\"\"\n",
        "    Produces an infinite stram of Tensorflow batches from a numpy dataset. The dataset is shuffled every epoch.\n",
        "    Args:\n",
        "       dataset: np.array[n_examples, ...]\n",
        "       batch_size: int, batch size of the results\n",
        "    Reuturns:\n",
        "       Tensor, containing the next batch\n",
        "    \"\"\"\n",
        "    if isinstance(dataset, tf.Tensor):\n",
        "        N_EXAMPLES = dataset.shape[0]\n",
        "    else:\n",
        "        N_EXAMPLES = dataset[0].shape[0]\n",
        "    shuffler = tf.contrib.data.shuffle_and_repeat(N_EXAMPLES)\n",
        "    dataset_tf = tf.data.Dataset.from_tensor_slices(dataset)\n",
        "    suffled_ds = shuffler(dataset_tf)\n",
        "    #return suffled_ds.batch(batch_size).prefetch(1).make_one_shot_iterator().get_next()\n",
        "    return tf.compat.v1.data.make_one_shot_iterator( suffled_ds.batch(batch_size) ).get_next()\n"
      ],
      "execution_count": 0,
      "outputs": []
    },
    {
      "cell_type": "code",
      "metadata": {
        "colab_type": "code",
        "id": "mzBIUJVNWc8t",
        "outputId": "a72ea888-8bf2-445b-e92d-ff934cc6b3e4",
        "colab": {
          "base_uri": "https://localhost:8080/",
          "height": 275
        }
      },
      "source": [
        "# Initialize training data setup.\n",
        "\n",
        "# Notes on strategy: we will train the two networks concurrently:\n",
        "#  - Train discriminator to better distinguish real data from current generator\n",
        "#  - Train generator to make discriminator think generator is real\n",
        "# Since discriminator is a differentiable neural network, we train both with gradient descent.\n",
        "# Training is done iteratively until discriminator is no longer able to find the difference (or until you run out of patience).\n",
        "# Tricks:\n",
        "# Train generator with adam to speed up training. Discriminator trains with SGD to avoid problems with momentum.\n",
        "# More: https://github.com/soumith/ganhacks\n",
        "\n",
        "# Obtain the training data faces stream for the discriminator\n",
        "train_batch_size = 100\n",
        "real_data = get_tf_dataset(data, train_batch_size)\n",
        "\n",
        "# Generate the noise data to be used in the generator training\n",
        "noise_batch_size = tf.placeholder(tf.int32, shape=[], name=\"noise_batch_size\")\n",
        "noise = tf.random_normal([noise_batch_size, CODE_SIZE], dtype=tf.float32, name=\"noise\")\n",
        "\n",
        "# Run data and noise through the networks\n",
        "discriminator_real = discriminator(real_data)\n",
        "generated_data = generator(noise)\n",
        "discriminator_generated = discriminator(generated_data)"
      ],
      "execution_count": 12,
      "outputs": [
        {
          "output_type": "stream",
          "text": [
            "WARNING:tensorflow:\n",
            "The TensorFlow contrib module will not be included in TensorFlow 2.0.\n",
            "For more information, please see:\n",
            "  * https://github.com/tensorflow/community/blob/master/rfcs/20180907-contrib-sunset.md\n",
            "  * https://github.com/tensorflow/addons\n",
            "  * https://github.com/tensorflow/io (for I/O related ops)\n",
            "If you depend on functionality not listed there, please file an issue.\n",
            "\n",
            "WARNING:tensorflow:From <ipython-input-11-594e2c6d3e45>:15: shuffle_and_repeat (from tensorflow.contrib.data.python.ops.shuffle_ops) is deprecated and will be removed in a future version.\n",
            "Instructions for updating:\n",
            "Use `tf.data.experimental.shuffle_and_repeat(...)`.\n",
            "WARNING:tensorflow:From /usr/local/lib/python3.6/dist-packages/tensorflow_core/contrib/data/python/ops/shuffle_ops.py:54: shuffle_and_repeat (from tensorflow.python.data.experimental.ops.shuffle_ops) is deprecated and will be removed in a future version.\n",
            "Instructions for updating:\n",
            "Use `tf.data.Dataset.shuffle(buffer_size, seed)` followed by `tf.data.Dataset.repeat(count)`. Static tf.data optimizations will take care of using the fused implementation.\n"
          ],
          "name": "stdout"
        }
      ]
    },
    {
      "cell_type": "code",
      "metadata": {
        "colab_type": "code",
        "id": "3wmhAaGiWjoE",
        "colab": {}
      },
      "source": [
        "# Configure custom learning and loss details, specific to the GAN strategy type\n",
        "\n",
        "if GAN_TYPE == \"Wasserstein\":\n",
        "    with tf.name_scope(\"gradient_loss\"):\n",
        "        alpha = tf.random_uniform(shape=[tf.shape(generated_data)[0], 1, 1, 1], minval=0., maxval=1.)\n",
        "        interpolates = alpha*real_data + ((1.-alpha)*generated_data)\n",
        "        disc_interpolates = discriminator(interpolates)\n",
        "        gradients = tf.gradients(disc_interpolates, [interpolates])[0]\n",
        "        slopes = tf.norm(tf.reshape(gradients, [tf.shape(gradients)[0], -1]), axis=1)\n",
        "        gradient_penalty = tf.reduce_mean(tf.square(slopes - 1.))\n",
        "    EMD_loss = tf.reduce_mean(discriminator_generated) - tf.reduce_mean(discriminator_real)\n",
        "    LAMBDA = 10.\n",
        "    discriminator_loss = EMD_loss + LAMBDA*gradient_penalty\n",
        "\n",
        "if GAN_TYPE == \"Jensen-Shannon\":\n",
        "    logp_real = discriminator(real_data)\n",
        "    logp_gen = discriminator(generated_data)\n",
        "    discriminator_loss = -tf.reduce_mean(logp_real[:,1] + logp_gen[:,0])\n",
        "\n",
        "\n",
        "\n",
        "# The values below are rough suggestions aimed at not exploding a discriminator\n",
        "# of complexity roughly equal to the complexity of the generator.\n",
        "disc_learning_rate = 1e-3\n",
        "\n",
        "if GAN_TYPE == \"Wasserstein\":\n",
        "    # https://arxiv.org/pdf/1704.00028.pdf\n",
        "    disc_optimizer = tf.train.AdamOptimizer(disc_learning_rate, beta1=0, beta2=0.9).minimize(\n",
        "           discriminator_loss, var_list=discriminator.trainable_weights)\n",
        "elif GAN_TYPE == \"Jensen-Shannon\":\n",
        "    disc_optimizer = tf.train.GradientDescentOptimizer(disc_learning_rate).minimize(\n",
        "        discriminator_loss, var_list=discriminator.trainable_weights)\n",
        "    \n",
        "\n",
        "if GAN_TYPE == \"Wasserstein\":\n",
        "    generator_loss = -tf.reduce_mean(discriminator_generated)\n",
        "     # https://arxiv.org/pdf/1704.00028.pdf\n",
        "    gen_optimizer = tf.train.AdamOptimizer(1e-4, beta1=0, beta2=0.9).minimize(\n",
        "        generator_loss, var_list=generator.trainable_weights)\n",
        "elif GAN_TYPE == \"Jensen-Shannon\":\n",
        "    generator_loss = -tf.reduce_mean(logp_gen[:,1])\n",
        "    gen_optimizer = tf.train.AdamOptimizer(1e-4).minimize(generator_loss, var_list=generator.trainable_weights)\n",
        "\n",
        "\n",
        "learning_summary = tf.summary.merge([\n",
        "    tf.summary.scalar(\"discriminator_loss\", discriminator_loss),\n",
        "    tf.summary.scalar(\"generator_loss\", generator_loss)\n",
        "])\n",
        "\n",
        "images_summary = tf.summary.image(\"generated_images\", generator(noise))\n"
      ],
      "execution_count": 0,
      "outputs": []
    },
    {
      "cell_type": "code",
      "metadata": {
        "colab_type": "code",
        "id": "UMhPM_fCZ1ES",
        "colab": {}
      },
      "source": [
        "# initialize all variables.\n",
        "sess.run(tf.global_variables_initializer())"
      ],
      "execution_count": 0,
      "outputs": []
    },
    {
      "cell_type": "code",
      "metadata": {
        "colab_type": "code",
        "id": "eVVcyUnUaGMh",
        "colab": {}
      },
      "source": [
        "# Define helper functions to evaluate the Gen. and Disc. over some data batches\n",
        "\n",
        "def sample_noise_batch(bsize):\n",
        "    # Get a new batch of noise samples\n",
        "    return np.random.normal(size=(bsize, CODE_SIZE)).astype('float32')\n",
        "\n",
        "def sample_data_batch(bsize):\n",
        "    # Get a batch of real faces\n",
        "    idxs = np.random.choice(np.arange(data.shape[0]), size=bsize)\n",
        "    return data[idxs]\n",
        "\n",
        "def sample_images(nrow,ncol, sharp=False):\n",
        "    # Let the generator create some faces from noise and show them\n",
        "    images = generator.predict(sample_noise_batch(bsize=nrow*ncol))\n",
        "    if np.var(images) != 0:\n",
        "        images = images.clip(np.min(data),np.max(data))\n",
        "    for i in range(nrow*ncol):\n",
        "        plt.subplot(nrow,ncol,i+1)\n",
        "        if sharp:\n",
        "            plt.imshow(images[i].reshape(IMG_SHAPE), cmap=\"gray\", interpolation=\"none\")\n",
        "        else:\n",
        "            plt.imshow(images[i].reshape(IMG_SHAPE), cmap=\"gray\")\n",
        "        plt.axis('off')\n",
        "\n",
        "def sample_probas(bsize):\n",
        "    # Let the discriminator predict 'True' or 'False' label for some real and some generated faces.\n",
        "    #  (note that this is actually a continuous number - a sort of 'probability')\n",
        "    fig, ax = plt.subplots()\n",
        "    ax.set_title('Generated vs real data')\n",
        "    ax.hist(discriminator.predict(sample_data_batch(bsize)).ravel(),\n",
        "             label='D(x)', alpha=0.5, normed=True)\n",
        "    ax.hist(discriminator.predict(generator.predict(sample_noise_batch(bsize))).ravel(),\n",
        "             label='D(G(z))', alpha=0.5,  normed=True)\n",
        "    ax.legend(loc='best')\n",
        "    return fig, ax"
      ],
      "execution_count": 0,
      "outputs": []
    },
    {
      "cell_type": "code",
      "metadata": {
        "colab_type": "code",
        "id": "cz5LzfqtaKIt",
        "outputId": "c6997123-f081-4f0f-f7d7-0871cb30fa7e",
        "colab": {
          "base_uri": "https://localhost:8080/",
          "height": 509
        }
      },
      "source": [
        "# Actual training\n",
        "\n",
        "from IPython import display\n",
        "import os\n",
        "\n",
        "LOGDIR = \"./\"\n",
        "MODEL_NAME = \"faces_GAN_%s_noreg_v1\" % GAN_TYPE\n",
        "MODEL_DIR = \"./\"\n",
        "os.makedirs(MODEL_DIR, exist_ok=True)\n",
        "MODEL_WEIGHTS_FILE =  os.path.join(MODEL_DIR, (\"%s.ckpt\" % MODEL_NAME))\n",
        "VALIDATION_INTERVAL = 50 # time between intermediate visual updates.\n",
        "TOTAL_ITERATIONS = int(5e3) # was 5e4 but colab takes too long \n",
        "# Number of discriminator training iterations per generator iteration\n",
        "# In our tests for discriminator of roughly as complexity as discriminator\n",
        "# 5 worked for both Wasserstein and Jensen–Shannon.\n",
        "DISCRIMINATOR_ITERATIONS = 5 \n",
        "\n",
        "# Save the intermediate weights, such that if our training gets interrupted,\n",
        "#  We don't have to restart from scratch.\n",
        "train_writer = tf.summary.FileWriter(os.path.join(LOGDIR, MODEL_NAME, \"train\"))\n",
        "train_writer.add_graph(tf.get_default_graph())\n",
        "weights_saver = tf.train.Saver()\n",
        "\n",
        "if(os.path.exists(MODEL_WEIGHTS_FILE)) :\n",
        "  try:\n",
        "    weights_saver.restore(sess, MODEL_WEIGHTS_FILE)\n",
        "  except (tf.errors.NotFoundError, tf.errors.InvalidArgumentError):\n",
        "    print(\"Can't restore parameters: no file with weights\")\n",
        "\n",
        "\n",
        "for epoch in range(TOTAL_ITERATIONS):\n",
        "  for i in range(DISCRIMINATOR_ITERATIONS):\n",
        "    # Train the discriminator\n",
        "    sess.run(disc_optimizer, {noise_batch_size: train_batch_size})\n",
        "  # Train the generator\n",
        "  summary, _ = sess.run([learning_summary, gen_optimizer], {noise_batch_size: train_batch_size})\n",
        "\n",
        "  # write the updated weights\n",
        "  train_writer.add_summary(summary, epoch)\n",
        "  \n",
        "  if epoch % VALIDATION_INTERVAL == 0:\n",
        "    # display intermediate status and some generated faces.\n",
        "    display.clear_output(wait=False)\n",
        "    weights_saver.save(sess, MODEL_WEIGHTS_FILE)\n",
        "    epoch_images_summary = sess.run(images_summary, {noise_batch_size: 3})\n",
        "    train_writer.add_summary(epoch_images_summary, epoch)\n",
        "    sample_images(2, 3, True)\n",
        "    fig, ax = sample_probas(1000)\n",
        "    ax.set_title((\"Epoch %i; \" % epoch) + ax.get_title())\n",
        "    plt.show()\n",
        "\n"
      ],
      "execution_count": 0,
      "outputs": [
        {
          "output_type": "display_data",
          "data": {
            "image/png": "[encoded data removed]",
            "text/plain": [
              "<Figure size 432x288 with 6 Axes>"
            ]
          },
          "metadata": {
            "tags": []
          }
        },
        {
          "output_type": "display_data",
          "data": {
            "image/png": "[encoded data removed]",
            "text/plain": [
              "<Figure size 432x288 with 1 Axes>"
            ]
          },
          "metadata": {
            "tags": []
          }
        }
      ]
    },
    {
      "cell_type": "code",
      "metadata": {
        "colab_type": "code",
        "id": "H09ukireaN9R",
        "colab": {}
      },
      "source": [
        "## Show us some generated faces after our training!\n",
        "plt.figure(figsize=[16, 24])\n",
        "sample_images(16, 8);"
      ],
      "execution_count": 0,
      "outputs": []
    }
  ]
}