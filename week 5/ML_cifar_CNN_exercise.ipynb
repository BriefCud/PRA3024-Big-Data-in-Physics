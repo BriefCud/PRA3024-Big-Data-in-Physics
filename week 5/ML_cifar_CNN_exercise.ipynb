{
  "nbformat": 4,
  "nbformat_minor": 0,
  "metadata": {
    "accelerator": "GPU",
    "colab": {
      "name": "ML_cifar_CNN_exercise.ipynb",
      "provenance": [],
      "collapsed_sections": [],
      "include_colab_link": true
    },
    "kernelspec": {
      "display_name": "Python 3",
      "language": "python",
      "name": "python3"
    },
    "language_info": {
      "codemirror_mode": {
        "name": "ipython",
        "version": 3
      },
      "file_extension": ".py",
      "mimetype": "text/x-python",
      "name": "python",
      "nbconvert_exporter": "python",
      "pygments_lexer": "ipython3",
      "version": "3.7.3"
    }
  },
  "cells": [
    {
      "cell_type": "markdown",
      "metadata": {
        "id": "view-in-github",
        "colab_type": "text"
      },
      "source": [
        "<a href=\"https://colab.research.google.com/github/BriefCud/PRA3024-Big-Data-in-Physics/blob/master/week%205/ML_cifar_CNN_exercise.ipynb\" target=\"_parent\"><img src=\"https://colab.research.google.com/assets/colab-badge.svg\" alt=\"Open In Colab\"/></a>"
      ]
    },
    {
      "cell_type": "code",
      "metadata": {
        "colab_type": "code",
        "id": "Vt4qJNgW2JAc",
        "colab": {}
      },
      "source": [
        "# Some data-handling functions to download/import.\n",
        "\n",
        "\"\"\"I load some cifar\"\"\"\n",
        "\n",
        "import numpy as np\n",
        "from sklearn.model_selection import train_test_split\n",
        "import os, sys\n",
        "if sys.version_info[0] == 2:\n",
        "    from urllib import urlretrieve\n",
        "    import cPickle as pickle\n",
        "\n",
        "else:\n",
        "    from urllib.request import urlretrieve\n",
        "    import pickle\n",
        "\n",
        "def unpickle(file):\n",
        "    fo = open(file, 'rb')\n",
        "    if sys.version_info[0] == 2:\n",
        "        dict = pickle.load(fo)\n",
        "    else:\n",
        "        dict = pickle.load(fo,encoding='latin1')\n",
        "    \n",
        "    fo.close()\n",
        "    return dict\n",
        "\n",
        "\n",
        "\n",
        "\n",
        "def download_cifar10(path,\n",
        "                     url='https://www.cs.toronto.edu/~kriz/cifar-10-python.tar.gz',\n",
        "                     tarname='cifar-10-python.tar.gz',):\n",
        "    import tarfile\n",
        "    if not os.path.exists(path):\n",
        "        os.mkdir(path)\n",
        "    \n",
        "        \n",
        "\n",
        "    urlretrieve(url, os.path.join(path,tarname))\n",
        "    tfile = tarfile.open(os.path.join(path,tarname))\n",
        "    tfile.extractall(path=path)\n",
        "    \n",
        "\n",
        "def load_cifar10(data_path=\".\",channels_last=False,test_size=0.2,random_state=1337):\n",
        "    \n",
        "    test_path = os.path.join(data_path,\"cifar-10-batches-py/test_batch\")\n",
        "    train_paths = [os.path.join(data_path,\"cifar-10-batches-py/data_batch_%i\"%i) for i in range(1,6)]\n",
        "    \n",
        "    if not os.path.exists(test_path) or not all(list(map(os.path.exists, train_paths))):\n",
        "        print (\"Dataset not found. Downloading...\")\n",
        "        download_cifar10(data_path)\n",
        "\n",
        "    train_batches = list(map(unpickle,train_paths))\n",
        "    test_batch = unpickle(test_path)\n",
        "\n",
        "    X = np.concatenate([batch[\"data\"] for batch in train_batches]).reshape([-1,3,32,32]).astype('float32')/255\n",
        "    y = np.concatenate([batch[\"labels\"] for batch in train_batches]).astype('int32')\n",
        "    X_train,X_val,y_train,y_val = train_test_split(X,y,\n",
        "                                                   test_size=test_size,\n",
        "                                                   random_state=random_state)\n",
        "    \n",
        "    X_test = test_batch[\"data\"].reshape([-1,3,32,32]).astype('float32')/255\n",
        "    y_test = np.array(test_batch[\"labels\"]).astype('int32')\n",
        "    \n",
        "    if channels_last:\n",
        "        #convert from [batch,3,H,W] to [batch,H,W,3]\n",
        "        #WARNING! Make this is only necessary for tensorflow-style dim order\n",
        "        #If you use theano-style dimensions in keras config, skip this cell\n",
        "        X_train = X_train.transpose([0,2,3,1])\n",
        "        X_val   = X_val.transpose([0,2,3,1])\n",
        "        X_test  = X_test.transpose([0,2,3,1])\n",
        "\n",
        "    \n",
        "    return X_train,y_train,X_val,y_val,X_test,y_test"
      ],
      "execution_count": 0,
      "outputs": []
    },
    {
      "cell_type": "code",
      "metadata": {
        "colab_type": "code",
        "id": "DMscyjno2d3E",
        "outputId": "6da6b25b-27ed-45f7-b3f2-665db242efca",
        "colab": {
          "base_uri": "https://localhost:8080/",
          "height": 114
        }
      },
      "source": [
        "import tensorflow as tf\n",
        "#gpu_options = tf.GPUOptions(allow_growth=True, per_process_gpu_memory_fraction=0.1) # restricts GPU load for multi-user nodes\n",
        "\n",
        "import keras\n",
        "from keras import backend as K\n",
        "import numpy as np\n",
        "%matplotlib inline\n",
        "import matplotlib.pyplot as plt\n",
        "print(tf.__version__)\n",
        "print(keras.__version__)"
      ],
      "execution_count": 2,
      "outputs": [
        {
          "output_type": "display_data",
          "data": {
            "text/html": [
              "<p style=\"color: red;\">\n",
              "The default version of TensorFlow in Colab will soon switch to TensorFlow 2.x.<br>\n",
              "We recommend you <a href=\"https://www.tensorflow.org/guide/migrate\" target=\"_blank\">upgrade</a> now \n",
              "or ensure your notebook will continue to use TensorFlow 1.x via the <code>%tensorflow_version 1.x</code> magic:\n",
              "<a href=\"https://colab.research.google.com/notebooks/tensorflow_version.ipynb\" target=\"_blank\">more info</a>.</p>\n"
            ],
            "text/plain": [
              "<IPython.core.display.HTML object>"
            ]
          },
          "metadata": {
            "tags": []
          }
        },
        {
          "output_type": "stream",
          "text": [
            "1.15.0\n",
            "2.2.5\n"
          ],
          "name": "stdout"
        },
        {
          "output_type": "stream",
          "text": [
            "Using TensorFlow backend.\n"
          ],
          "name": "stderr"
        }
      ]
    },
    {
      "cell_type": "code",
      "metadata": {
        "colab_type": "code",
        "id": "0CfXm-YY2kXa",
        "outputId": "1b4ac260-c793-4ba5-e5f6-0bd26d24f8df",
        "colab": {
          "base_uri": "https://localhost:8080/",
          "height": 68
        }
      },
      "source": [
        "# Load the data samples\n",
        "\n",
        "x_train,y_train,x_val,y_val,x_test,y_test = load_cifar10(\"cifar_data\",channels_last=True)\n",
        "\n",
        "NUM_CLASSES = 10\n",
        "cifar10_classes = [\"airplane\", \"automobile\", \"bird\", \"cat\", \"deer\", \n",
        "                   \"dog\", \"frog\", \"horse\", \"ship\", \"truck\"]\n",
        "\n",
        "print(\"Train samples:\", x_train.shape, y_train.shape)\n",
        "print(\"Test samples:\", x_test.shape, y_test.shape)\n",
        "print(\"Val samples:\", x_val.shape, y_val.shape)"
      ],
      "execution_count": 3,
      "outputs": [
        {
          "output_type": "stream",
          "text": [
            "Train samples: (40000, 32, 32, 3) (40000,)\n",
            "Test samples: (10000, 32, 32, 3) (10000,)\n",
            "Val samples: (10000, 32, 32, 3) (10000,)\n"
          ],
          "name": "stdout"
        }
      ]
    },
    {
      "cell_type": "code",
      "metadata": {
        "colab_type": "code",
        "id": "hJGSPvxE2q0e",
        "outputId": "9d4aa1e0-a393-4f9a-c1db-4e163a47ddee",
        "colab": {
          "base_uri": "https://localhost:8080/",
          "height": 255
        }
      },
      "source": [
        "# show some random images from train, and their labels\n",
        "\n",
        "cols = 8\n",
        "rows = 2\n",
        "fig = plt.figure(figsize=(2 * cols - 1, 2.5 * rows - 1))\n",
        "for i in range(cols):\n",
        "    for j in range(rows):\n",
        "        random_index = np.random.randint(0, len(y_train))\n",
        "        ax = fig.add_subplot(rows, cols, i * rows + j + 1)\n",
        "        ax.grid('off')\n",
        "        ax.axis('off')\n",
        "        ax.imshow(x_train[random_index, :])\n",
        "        ax.set_title(cifar10_classes[y_train[random_index]])\n",
        "plt.show()"
      ],
      "execution_count": 4,
      "outputs": [
        {
          "output_type": "display_data",
          "data": {
            "image/png": "[encoded data removed]",
            "text/plain": [
              "<Figure size 1080x288 with 16 Axes>"
            ]
          },
          "metadata": {
            "tags": []
          }
        }
      ]
    },
    {
      "cell_type": "code",
      "metadata": {
        "colab_type": "code",
        "id": "f1CDmCp52x0p",
        "colab": {}
      },
      "source": [
        "# normalize inputs\n",
        "# convert class labels to one-hot encoded, should have shape (?, NUM_CLASSES)\n",
        "# x_train = x_train.astype(np.float64) - 0.5\n",
        "\n",
        "y_train = keras.utils.to_categorical(y_train, num_classes=10)\n",
        "\n",
        "y_val = keras.utils.to_categorical(y_val, num_classes=10)\n",
        "\n",
        "y_test = keras.utils.to_categorical(y_test, num_classes=10)"
      ],
      "execution_count": 0,
      "outputs": []
    },
    {
      "cell_type": "code",
      "metadata": {
        "colab_type": "code",
        "id": "Bons0ztb24U6",
        "colab": {
          "base_uri": "https://localhost:8080/",
          "height": 119
        },
        "outputId": "9507fb7d-802b-4910-c048-879a11f59d82"
      },
      "source": [
        "### Import necessary building blocks\n",
        "from keras.models import Sequential\n",
        "from keras.layers import Conv2D, MaxPooling2D, Flatten, Dense, Activation, Dropout, BatchNormalization\n",
        "from keras.layers.advanced_activations import LeakyReLU\n",
        "from keras import optimizers\n",
        "\n",
        "#### Impots needed for tuning the model\n",
        "# !pip install sklearn\n",
        "# from sklearn.model_selection import GridSearchCV\n",
        "# from keras.wrappers.scikit_learn import KerasClassifier\n",
        "\n",
        "### Imports for data augmentation\n",
        "from keras.preprocessing.image import ImageDataGenerator\n",
        "\n",
        "### Imports for Lasagne\n",
        "!pip install theano\n",
        "!pip install lasagne\n",
        "import theano\n",
        "from theano.tensor.signal import pool\n",
        "import lasagne"
      ],
      "execution_count": 10,
      "outputs": [
        {
          "output_type": "stream",
          "text": [
            "Requirement already satisfied: theano in /usr/local/lib/python3.6/dist-packages (1.0.4+unknown)\n",
            "Requirement already satisfied: numpy>=1.9.1 in /usr/local/lib/python3.6/dist-packages (from theano) (1.17.5)\n",
            "Requirement already satisfied: scipy>=0.14 in /usr/local/lib/python3.6/dist-packages (from theano) (1.4.1)\n",
            "Requirement already satisfied: six>=1.9.0 in /usr/local/lib/python3.6/dist-packages (from theano) (1.12.0)\n",
            "Requirement already satisfied: lasagne in /usr/local/lib/python3.6/dist-packages (0.2.dev1)\n",
            "Requirement already satisfied: numpy in /usr/local/lib/python3.6/dist-packages (from lasagne) (1.17.5)\n"
          ],
          "name": "stdout"
        }
      ]
    },
    {
      "cell_type": "code",
      "metadata": {
        "colab_type": "code",
        "id": "Fm6EDVhm2-07",
        "colab": {}
      },
      "source": [
        "def make_model():\n",
        "  \"\"\"\n",
        "  Define your model architecture here.\n",
        "  Returns `Sequential` model.\n",
        "  \"\"\"\n",
        "\n",
        "  model = Sequential()\n",
        "\n",
        "  ### STUDENT CODE HERE ###\n",
        "  ### --> Build your convolutional neural network. \n",
        "\n",
        "  ### First, make a CNN layer with some small kernels to learn some basic features, with Conv2D.\n",
        "  model.add(Conv2D(32, (3,3), padding='same', activation=\"elu\", input_shape=x_train.shape[1:]))\n",
        "\n",
        "  ### Using BatchNormalization to decrease the speed of the CNN\n",
        "  ### This function is used to reduce covariant shift.\n",
        "  ### When a layer is executed during the training stage, the parameters of the dataset change,\n",
        "  ### which also leads to the distribution of input in the current layer to change.\n",
        "  ### These changes can affect the whole network. Batch normalization reduces this change\n",
        "  model.add(BatchNormalization()) \n",
        "\n",
        "  model.add(Conv2D(32, (3,3), padding='same', activation=\"elu\"))\n",
        "  model.add(BatchNormalization())\n",
        "\n",
        "  ### Pooling layer to pick up the relevant kernels.\n",
        "  model.add(MaxPooling2D((2, 2)))\n",
        "\n",
        "  ### Using a Dropout layer, to avoid local minima\n",
        "  model.add(Dropout(0.2))\n",
        "\n",
        "  model.add(Conv2D(64, (3,3), padding='same', activation=\"elu\"))\n",
        "  model.add(BatchNormalization())\n",
        "  model.add(Conv2D(64, (3,3), padding='same', activation=\"elu\"))\n",
        "  model.add(BatchNormalization())\n",
        "  model.add(MaxPooling2D(pool_size=(2,2)))\n",
        "  model.add(Dropout(0.3))\n",
        "\n",
        "  model.add(Conv2D(128, (3,3), padding='same', activation=\"elu\"))\n",
        "  model.add(BatchNormalization())\n",
        "  model.add(Conv2D(128, (3,3), padding='same', activation=\"elu\"))\n",
        "  model.add(BatchNormalization())\n",
        "  model.add(MaxPooling2D(pool_size=(2,2)))\n",
        "  model.add(Dropout(0.4))\n",
        "\n",
        "  ### Then, Flatten it and add some fully-connected (Dense) normal NN layers,\n",
        "  ###  to learn the relevant combinations of low-level kernel features.\n",
        "  model.add(Flatten())\n",
        "\n",
        "  model.add(Dense(10, activation='softmax'))\n",
        "\n",
        "  # prepare model for fitting (loss, optimizer, etc)\n",
        "  model.compile(\n",
        "    loss='categorical_crossentropy',  # we train 10-way classification\n",
        "    optimizer=optimizers.adam(lr=1e-3),\n",
        "    metrics=['accuracy']  # report accuracy during training\n",
        "  )\n",
        "\n",
        "  model.summary()\n",
        "\n",
        "  return model\n",
        "\n",
        "\n",
        "def lasagne_network():\n",
        "  ### Input layer and specifying the shape\n",
        "  network = lasagne.layers.InputLayer(shape=x_train.shape[1:])\n",
        "\n",
        "  network = lasagne.layers.Conv2DLayer(\n",
        "        network, num_filters=32, filter_size=(5, 5),\n",
        "        nonlinearity=lasagne.nonlinearities.relu,\n",
        "        W=lasagne.init.GlorotNormal())\n",
        "  \n",
        "  network = lasagne.layers.MaxPool2DLayer(network, pool_size=(2, 2))\n",
        "\n",
        "  network = lasagne.layers.Conv2DLayer(\n",
        "        network, num_filters=32, filter_size=(5, 5),\n",
        "        nonlinearity=lasagne.nonlinearities.relu)\n",
        "  \n",
        "  network = lasagne.layers.MaxPool2DLayer(network, pool_size=(2, 2))\n",
        "\n",
        "  network = lasagne.layers.DenseLayer(\n",
        "        lasagne.layers.dropout(network, p=.5),\n",
        "        num_units=256,\n",
        "        nonlinearity=lasagne.nonlinearities.relu)\n",
        "  \n",
        "  network = lasagne.layers.DenseLayer(\n",
        "        lasagne.layers.dropout(network, p=.5),\n",
        "        num_units=10,\n",
        "        nonlinearity=lasagne.nonlinearities.softmax)\n",
        "\n",
        "  return network\n",
        "\n",
        "\n",
        "\n",
        "\n",
        "### Tuning the model using GridSearchCV\n",
        "\n",
        "# classifier_tuner = KerasClassifier(build_fn=make_model)\n",
        "\n",
        "### Creating dictionary for the values to tune\n",
        "# parameters = {\"batch_size\":[32,64,128,256],\n",
        "#               \"optimizer\":[\"adam\",\"rmsprop\",\"adamax\"],\n",
        "#               \"activation\":[\"relu\",\"sigmoid\",\"tanh\",\"hard_sigmoid\"],\n",
        "#               \"initializer\":[\"lecun_uniform\",\"he_normal\",\"lecun_normal\"]\n",
        "#              }\n",
        "\n",
        "# ### Using GridSearchCV to tune the model\n",
        "# grid_search = GridSearchCV(estimator=classifier_tuner,param_grid=parameters,scoring=\"accuracy\",cv=10)\n",
        "\n",
        "# ### Fitting the model\n",
        "# grid_search = grid_search.fit(x_train,y_train,epochs=3)\n",
        "\n",
        "# best_parameters = grid_search.best_parameters\n",
        "# best_accuracy = grid_search.best_score\n",
        "\n",
        "### I tried uding this code above which tunes the parameters in the model,\n",
        "### I was getting the error 'Classification metrics can't handle a mix of multilabel-indicator and multiclass targets' \n",
        "### which I could not fix therefore decied to move on\n",
        "\n",
        "\n",
        "### used these sources to help with my code\n",
        "### https://machinelearningmastery.com/how-to-develop-a-cnn-from-scratch-for-cifar-10-photo-classification/\n",
        "### https://lasagne.readthedocs.io/en/latest/user/tutorial.html \n",
        "### https://github.com/Lasagne/Lasagne/blob/master/examples/mnist.py\n",
        "### https://www.youtube.com/watch?v=yYqAvlkRwUQ&list=PLk8YgWh7uSMfNldR184FuyK8La2Z5oEsX&index=7\n",
        "\n",
        "### END STUDENT CODE ###"
      ],
      "execution_count": 0,
      "outputs": []
    },
    {
      "cell_type": "code",
      "metadata": {
        "colab_type": "code",
        "id": "8smtg5Sh3B7b",
        "outputId": "04162e9e-c7b2-46fc-dc13-3ce9800df409",
        "colab": {
          "base_uri": "https://localhost:8080/",
          "height": 1000
        }
      },
      "source": [
        "### STUDENT CODE HERE ###\n",
        "### --> change the parameters below to perform a better training\n",
        "\n",
        "BATCH_SIZE = 100\n",
        "EPOCHS = 12\n",
        "\n",
        "K.clear_session()  # clear default graph\n",
        "# don't call K.set_learning_phase() !!! (otherwise will enable dropout in train/test simultaneously)\n",
        "model = make_model()  # define our model\n",
        "model = lasagne_network()\n",
        "\n",
        "fit_model = model.fit(\n",
        "    x_train, y_train,  # prepared data\n",
        "    batch_size=BATCH_SIZE,\n",
        "    epochs=EPOCHS,\n",
        "    validation_data=(x_val, y_val),\n",
        "    shuffle=True,\n",
        ")\n"
      ],
      "execution_count": 11,
      "outputs": [
        {
          "output_type": "stream",
          "text": [
            "WARNING:tensorflow:From /usr/local/lib/python3.6/dist-packages/keras/backend/tensorflow_backend.py:207: The name tf.global_variables is deprecated. Please use tf.compat.v1.global_variables instead.\n",
            "\n",
            "WARNING:tensorflow:From /usr/local/lib/python3.6/dist-packages/keras/backend/tensorflow_backend.py:216: The name tf.is_variable_initialized is deprecated. Please use tf.compat.v1.is_variable_initialized instead.\n",
            "\n",
            "WARNING:tensorflow:From /usr/local/lib/python3.6/dist-packages/keras/backend/tensorflow_backend.py:223: The name tf.variables_initializer is deprecated. Please use tf.compat.v1.variables_initializer instead.\n",
            "\n",
            "WARNING:tensorflow:From /usr/local/lib/python3.6/dist-packages/keras/backend/tensorflow_backend.py:2041: The name tf.nn.fused_batch_norm is deprecated. Please use tf.compat.v1.nn.fused_batch_norm instead.\n",
            "\n",
            "WARNING:tensorflow:From /usr/local/lib/python3.6/dist-packages/keras/backend/tensorflow_backend.py:4267: The name tf.nn.max_pool is deprecated. Please use tf.nn.max_pool2d instead.\n",
            "\n",
            "WARNING:tensorflow:From /usr/local/lib/python3.6/dist-packages/keras/backend/tensorflow_backend.py:3733: calling dropout (from tensorflow.python.ops.nn_ops) with keep_prob is deprecated and will be removed in a future version.\n",
            "Instructions for updating:\n",
            "Please use `rate` instead of `keep_prob`. Rate should be set to `rate = 1 - keep_prob`.\n",
            "WARNING:tensorflow:From /usr/local/lib/python3.6/dist-packages/keras/optimizers.py:793: The name tf.train.Optimizer is deprecated. Please use tf.compat.v1.train.Optimizer instead.\n",
            "\n",
            "WARNING:tensorflow:From /usr/local/lib/python3.6/dist-packages/keras/backend/tensorflow_backend.py:3576: The name tf.log is deprecated. Please use tf.math.log instead.\n",
            "\n",
            "Model: \"sequential_1\"\n",
            "_________________________________________________________________\n",
            "Layer (type)                 Output Shape              Param #   \n",
            "=================================================================\n",
            "conv2d_1 (Conv2D)            (None, 32, 32, 32)        896       \n",
            "_________________________________________________________________\n",
            "batch_normalization_1 (Batch (None, 32, 32, 32)        128       \n",
            "_________________________________________________________________\n",
            "conv2d_2 (Conv2D)            (None, 32, 32, 32)        9248      \n",
            "_________________________________________________________________\n",
            "batch_normalization_2 (Batch (None, 32, 32, 32)        128       \n",
            "_________________________________________________________________\n",
            "max_pooling2d_1 (MaxPooling2 (None, 16, 16, 32)        0         \n",
            "_________________________________________________________________\n",
            "dropout_1 (Dropout)          (None, 16, 16, 32)        0         \n",
            "_________________________________________________________________\n",
            "conv2d_3 (Conv2D)            (None, 16, 16, 64)        18496     \n",
            "_________________________________________________________________\n",
            "batch_normalization_3 (Batch (None, 16, 16, 64)        256       \n",
            "_________________________________________________________________\n",
            "conv2d_4 (Conv2D)            (None, 16, 16, 64)        36928     \n",
            "_________________________________________________________________\n",
            "batch_normalization_4 (Batch (None, 16, 16, 64)        256       \n",
            "_________________________________________________________________\n",
            "max_pooling2d_2 (MaxPooling2 (None, 8, 8, 64)          0         \n",
            "_________________________________________________________________\n",
            "dropout_2 (Dropout)          (None, 8, 8, 64)          0         \n",
            "_________________________________________________________________\n",
            "conv2d_5 (Conv2D)            (None, 8, 8, 128)         73856     \n",
            "_________________________________________________________________\n",
            "batch_normalization_5 (Batch (None, 8, 8, 128)         512       \n",
            "_________________________________________________________________\n",
            "conv2d_6 (Conv2D)            (None, 8, 8, 128)         147584    \n",
            "_________________________________________________________________\n",
            "batch_normalization_6 (Batch (None, 8, 8, 128)         512       \n",
            "_________________________________________________________________\n",
            "max_pooling2d_3 (MaxPooling2 (None, 4, 4, 128)         0         \n",
            "_________________________________________________________________\n",
            "dropout_3 (Dropout)          (None, 4, 4, 128)         0         \n",
            "_________________________________________________________________\n",
            "flatten_1 (Flatten)          (None, 2048)              0         \n",
            "_________________________________________________________________\n",
            "dense_1 (Dense)              (None, 10)                20490     \n",
            "=================================================================\n",
            "Total params: 309,290\n",
            "Trainable params: 308,394\n",
            "Non-trainable params: 896\n",
            "_________________________________________________________________\n",
            "WARNING:tensorflow:From /usr/local/lib/python3.6/dist-packages/tensorflow_core/python/ops/math_grad.py:1424: where (from tensorflow.python.ops.array_ops) is deprecated and will be removed in a future version.\n",
            "Instructions for updating:\n",
            "Use tf.where in 2.0, which has the same broadcast rule as np.where\n",
            "WARNING:tensorflow:From /usr/local/lib/python3.6/dist-packages/keras/backend/tensorflow_backend.py:1033: The name tf.assign_add is deprecated. Please use tf.compat.v1.assign_add instead.\n",
            "\n",
            "WARNING:tensorflow:From /usr/local/lib/python3.6/dist-packages/keras/backend/tensorflow_backend.py:1020: The name tf.assign is deprecated. Please use tf.compat.v1.assign instead.\n",
            "\n",
            "Train on 40000 samples, validate on 10000 samples\n",
            "Epoch 1/12\n",
            "40000/40000 [==============================] - 28s 699us/step - loss: 1.7758 - acc: 0.4416 - val_loss: 1.2136 - val_acc: 0.5847\n",
            "Epoch 2/12\n",
            "40000/40000 [==============================] - 20s 490us/step - loss: 1.1500 - acc: 0.6084 - val_loss: 1.0249 - val_acc: 0.6527\n",
            "Epoch 3/12\n",
            "40000/40000 [==============================] - 19s 487us/step - loss: 0.9379 - acc: 0.6776 - val_loss: 0.8538 - val_acc: 0.7014\n",
            "Epoch 4/12\n",
            "40000/40000 [==============================] - 20s 489us/step - loss: 0.8229 - acc: 0.7133 - val_loss: 0.8275 - val_acc: 0.7241\n",
            "Epoch 5/12\n",
            "40000/40000 [==============================] - 20s 488us/step - loss: 0.7438 - acc: 0.7426 - val_loss: 0.6886 - val_acc: 0.7600\n",
            "Epoch 6/12\n",
            "40000/40000 [==============================] - 19s 484us/step - loss: 0.6770 - acc: 0.7662 - val_loss: 0.8210 - val_acc: 0.7307\n",
            "Epoch 7/12\n",
            "40000/40000 [==============================] - 20s 489us/step - loss: 0.6294 - acc: 0.7812 - val_loss: 0.6261 - val_acc: 0.7840\n",
            "Epoch 8/12\n",
            "40000/40000 [==============================] - 20s 495us/step - loss: 0.5833 - acc: 0.7972 - val_loss: 0.6106 - val_acc: 0.7887\n",
            "Epoch 9/12\n",
            "40000/40000 [==============================] - 20s 500us/step - loss: 0.5375 - acc: 0.8129 - val_loss: 0.6600 - val_acc: 0.7805\n",
            "Epoch 10/12\n",
            "40000/40000 [==============================] - 20s 500us/step - loss: 0.5078 - acc: 0.8213 - val_loss: 0.6074 - val_acc: 0.7999\n",
            "Epoch 11/12\n",
            "40000/40000 [==============================] - 20s 497us/step - loss: 0.4713 - acc: 0.8359 - val_loss: 0.6300 - val_acc: 0.7977\n",
            "Epoch 12/12\n",
            "40000/40000 [==============================] - 20s 493us/step - loss: 0.4454 - acc: 0.8441 - val_loss: 0.5486 - val_acc: 0.8179\n"
          ],
          "name": "stdout"
        }
      ]
    },
    {
      "cell_type": "code",
      "metadata": {
        "id": "jh5x277sBeFZ",
        "colab_type": "code",
        "outputId": "40148730-a3fe-4ede-d8f1-801feb4a19ff",
        "colab": {
          "base_uri": "https://localhost:8080/",
          "height": 981
        }
      },
      "source": [
        "### Data Augmentation ###\n",
        "'''\n",
        "This process will take an image from the x_train dataset and output manipulated \n",
        "images for the CNN to train on, this will increase the accuracy of the model\n",
        "'''\n",
        "datagen = ImageDataGenerator(\n",
        "    rotation_range=5,\n",
        "    height_shift_range=0.1,\n",
        "    width_shift_range=0.1,\n",
        "    horizontal_flip=True,\n",
        "    )\n",
        "datagen.fit(x_train)\n",
        "\n",
        "\n",
        "fit_aug = model.fit_generator(datagen.flow(x_train, y_train, batch_size=BATCH_SIZE),\n",
        "                    steps_per_epoch=x_train.shape[0] // BATCH_SIZE,epochs=100,\n",
        "                    verbose=1,validation_data=(x_val,y_val))\n",
        "\n",
        "### Plotting the accuracy to compare model with and without data augmentation\n",
        "\n",
        "### Without data augmentation\n",
        "history = fit_model\n",
        "plt.plot(history.history['acc'])\n",
        "plt.plot(history.history['val_acc'])\n",
        "plt.title('model accuracy without augmentation')\n",
        "plt.ylabel('accuracy')\n",
        "plt.xlabel('epoch')\n",
        "plt.legend(['acc', 'val_acc'], loc='upper left')\n",
        "plt.show()\n",
        "\n",
        "### With data augmentation\n",
        "aug_history = fit_aug\n",
        "plt.plot(aug_history.history['acc'])\n",
        "plt.plot(aug_history.history['val_acc'])\n",
        "plt.title('model accuracy with augmentation')\n",
        "plt.ylabel('accuracy')\n",
        "plt.xlabel('epoch')\n",
        "plt.legend(['acc', 'val_acc'], loc='upper left')\n",
        "plt.show()\n",
        "\n",
        "# save weights to file to avoid re-training\n",
        "model.save_weights(\"weights.h5\")\n",
        "\n",
        "####### TRIAL AND ERROR DOCUMENTATION ####\n",
        "### 1.  I added more layers to the model to increase its accuracy whcih worked\n",
        "### 2.  I changed the number of neurons to make the layers more complex\n",
        "### 3.  I changed the pixel height and width (the brackets after the neuron size) so the CNN analyses more pixels\n",
        "### 4.  I changed the pixel height and width and also the pool_size to (3,3) but get an error so i had to change the pool_size back\n",
        "### 5.  I changed the neuron numbers so the biggest numbers are at the first layers in descending order\n",
        "### 6.  I decided to bring another two layers after the first 4 CNN layers\n",
        "### 7.  I changed the activation to hard_sigmoid\n",
        "### 8.  Changed the activation back to relu and the first Dense layer to sigmoid\n",
        "### 9.  I tried using hyperparameter tuning but I get an error as explained above\n",
        "### 10. I used data augmentation to increase the accuracy of the model\n",
        "### 11. Using lasagne framework to create a NN"
      ],
      "execution_count": 13,
      "outputs": [
        {
          "output_type": "stream",
          "text": [
            "Epoch 1/12\n",
            "400/400 [==============================] - 34s 86ms/step - loss: 0.6866 - acc: 0.7636 - val_loss: 0.6240 - val_acc: 0.7925\n",
            "Epoch 2/12\n",
            "400/400 [==============================] - 34s 84ms/step - loss: 0.6271 - acc: 0.7833 - val_loss: 0.6677 - val_acc: 0.7827\n",
            "Epoch 3/12\n",
            "400/400 [==============================] - 33s 82ms/step - loss: 0.6028 - acc: 0.7894 - val_loss: 0.6292 - val_acc: 0.7918\n",
            "Epoch 4/12\n",
            "400/400 [==============================] - 31s 79ms/step - loss: 0.5854 - acc: 0.7936 - val_loss: 0.5868 - val_acc: 0.8072\n",
            "Epoch 5/12\n",
            "400/400 [==============================] - 33s 84ms/step - loss: 0.5588 - acc: 0.8060 - val_loss: 0.5136 - val_acc: 0.8223\n",
            "Epoch 6/12\n",
            "400/400 [==============================] - 32s 80ms/step - loss: 0.5527 - acc: 0.8068 - val_loss: 0.6553 - val_acc: 0.7838\n",
            "Epoch 7/12\n",
            "400/400 [==============================] - 31s 77ms/step - loss: 0.5401 - acc: 0.8129 - val_loss: 0.5678 - val_acc: 0.8117\n",
            "Epoch 8/12\n",
            "400/400 [==============================] - 33s 82ms/step - loss: 0.5281 - acc: 0.8172 - val_loss: 0.6006 - val_acc: 0.8022\n",
            "Epoch 9/12\n",
            "400/400 [==============================] - 32s 79ms/step - loss: 0.5179 - acc: 0.8205 - val_loss: 0.4782 - val_acc: 0.8372\n",
            "Epoch 10/12\n",
            "400/400 [==============================] - 31s 78ms/step - loss: 0.5016 - acc: 0.8252 - val_loss: 0.5767 - val_acc: 0.8086\n",
            "Epoch 11/12\n",
            "400/400 [==============================] - 33s 83ms/step - loss: 0.4994 - acc: 0.8265 - val_loss: 0.5314 - val_acc: 0.8265\n",
            "Epoch 12/12\n",
            "400/400 [==============================] - 31s 78ms/step - loss: 0.4886 - acc: 0.8285 - val_loss: 0.5976 - val_acc: 0.8094\n"
          ],
          "name": "stdout"
        },
        {
          "output_type": "display_data",
          "data": {
            "image/png": "[encoded data removed]",
            "text/plain": [
              "<Figure size 432x288 with 1 Axes>"
            ]
          },
          "metadata": {
            "tags": []
          }
        },
        {
          "output_type": "display_data",
          "data": {
            "image/png": "[encoded data removed]",
            "text/plain": [
              "<Figure size 432x288 with 1 Axes>"
            ]
          },
          "metadata": {
            "tags": []
          }
        }
      ]
    },
    {
      "cell_type": "code",
      "metadata": {
        "colab_type": "code",
        "id": "OWBbPqfZ3SC2",
        "colab": {}
      },
      "source": [
        "# load weights from file (can call without model.fit)\n",
        "model.load_weights(\"weights.h5\")"
      ],
      "execution_count": 0,
      "outputs": []
    },
    {
      "cell_type": "code",
      "metadata": {
        "colab_type": "code",
        "id": "AJxcYmzg3TEH",
        "colab": {}
      },
      "source": [
        "# make test predictions\n",
        "y_pred_test = model.predict_proba(x_test)\n",
        "y_pred_test_classes = np.argmax(y_pred_test, axis=1)\n",
        "y_pred_test_max_probas = np.max(y_pred_test, axis=1)\n",
        "y_test_index = [list(onehot).index(1) for onehot in y_test]\n",
        "\n",
        "# confusion matrix and accuracy\n",
        "from sklearn.metrics import confusion_matrix, accuracy_score\n",
        "plt.figure(figsize=(7, 6))\n",
        "plt.title('Confusion matrix', fontsize=16)\n",
        "plt.imshow(confusion_matrix(y_test_index, y_pred_test_classes))\n",
        "plt.xticks(np.arange(10), cifar10_classes, rotation=45, fontsize=12)\n",
        "plt.yticks(np.arange(10), cifar10_classes, fontsize=12)\n",
        "plt.colorbar()\n",
        "plt.show()\n",
        "print(\"Test accuracy:\", accuracy_score(y_test_index, y_pred_test_classes))"
      ],
      "execution_count": 0,
      "outputs": []
    },
    {
      "cell_type": "code",
      "metadata": {
        "colab_type": "code",
        "id": "xzM8zk6L3muR",
        "colab": {}
      },
      "source": [
        "# inspect preditions\n",
        "cols = 8\n",
        "rows = 2\n",
        "fig = plt.figure(figsize=(2 * cols - 1, 3 * rows - 1))\n",
        "for i in range(cols):\n",
        "    for j in range(rows):\n",
        "        random_index = np.random.randint(0, len(y_test))\n",
        "        ax = fig.add_subplot(rows, cols, i * rows + j + 1)\n",
        "        ax.grid('off')\n",
        "        ax.axis('off')\n",
        "        ax.imshow(x_test[random_index, :])\n",
        "        pred_label = cifar10_classes[y_pred_test_classes[random_index]]\n",
        "        pred_proba = y_pred_test_max_probas[random_index]\n",
        "        true_label = cifar10_classes[y_test_index[random_index]]\n",
        "        ax.set_title(\"pred: {}\\nscore: {:.3}\\ntrue: {}\".format(\n",
        "               pred_label, pred_proba, true_label\n",
        "        ))\n",
        "plt.show()"
      ],
      "execution_count": 0,
      "outputs": []
    },
    {
      "cell_type": "markdown",
      "metadata": {
        "colab_type": "text",
        "id": "3PTp4Jr13oAN"
      },
      "source": [
        "# Some tips on how to improve:\n",
        "\n",
        "* The ultimate quest is to create a network that has as high __accuracy__ as you can push it.\n",
        "\n",
        "## Potential grading:\n",
        "* starting at zero points\n",
        "* +2 for describing your iteration path in a report below.\n",
        "* +2 for building a network that gets above 20% accuracy\n",
        "* +1 for beating each of these milestones on __TEST__ dataset:\n",
        "    * 50% (5 total)\n",
        "    * 60% (6 total)\n",
        "    * 65% (7 total)\n",
        "    * 70% (8 total)\n",
        "    * 75% (9 total)\n",
        "    * 80% (10 total)\n",
        "\n",
        "## Bonus points\n",
        "Common ways to get bonus points are:\n",
        "* Get higher score, obviously.\n",
        "* Anything special about your NN. For example \\\"A super-small/fast NN that gets 80%\\\" gets a bonus.\n",
        "* Any detailed analysis of the results. (saliency maps, whatever)\n",
        "\n",
        "## Restrictions\n",
        "* Please do NOT use pre-trained networks for this assignment until you reach 80%.\n",
        " * In other words, base milestones must be beaten without pre-trained nets (and such net must be present in the e-mail). After that, you can use whatever you want.\n",
        "* you __can__ use validation data for training, but you __can't'__ do anything with test data apart from running the evaluation procedure.\n",
        "\n",
        "## Tips on what can be done:\n",
        "\n",
        " * __Network size__\n",
        "   * MOAR neurons, \n",
        "   * MOAR layers, ([lasagne docs](http://lasagne.readthedocs.org))\n",
        "   * Nonlinearities in the hidden layers\n",
        "   * tanh, relu, leaky relu, etc\n",
        "   * Larger networks may take more epochs to train, so don't discard your net just because it could didn't beat the baseline in 5 epochs.\n",
        "\n",
        " * __Convolution layers__\n",
        "   * they __are a must__ unless you have any super-ideas\n",
        "   * `network = lasagne.layers.Conv2DLayer(prev_layer,`\n",
        "     `                       num_filters = n_neurons,`\n",
        "     `                       filter_size = (filter width, filter height),`\n",
        "     `                       nonlinearity = some_nonlinearity)`\n",
        "   * Warning! Training convolutional networks can take long without GPU. That's okay.\n",
        "     * If you are CPU-only, we still recomment to try a simple convolutional architecture\n",
        "     * a perfect option is if you can set it up to run at nighttime and check it up at the morning.\n",
        "     * Make reasonable layer size estimates. A 128-neuron first convolution is likely an overkill.\n",
        "     * __To reduce computation__ time by a factor in exchange for some accuracy drop, try using __stride__ parameter. A stride=2 convolution should take roughly 1/4 of the default (stride=1) one.\n",
        "\n",
        "   * Plenty other layers and architectures\n",
        "     * http://lasagne.readthedocs.org/en/latest/modules/layers.html\n",
        "     * batch normalization, pooling, etc\n",
        "\n",
        "\n",
        " * __Early Stopping__\n",
        "   * Training for 100 epochs regardless of anything is probably a bad idea.\n",
        "   * Some networks converge over 5 epochs, others - over 500.\n",
        "   * Way to go: stop when validation score is 10 iterations past maximum\n",
        "\n",
        "\n",
        " * __Faster optimization__ - \n",
        "   * rmsprop, nesterov_momentum, adam, adagrad and so on.\n",
        "     * Converge faster and sometimes reach better optima\n",
        "     * It might make sense to tweak learning rate/momentum, other learning parameters, batch size and number of epochs\n",
        "   * __BatchNormalization__ (lasagne.layers.batch_norm) FTW!\n",
        "\n",
        "\n",
        " * __Regularize__ to prevent overfitting\n",
        "   * Add some L2 weight norm to the loss function, theano will do the rest\n",
        "     * Can be done manually or via - http://lasagne.readthedocs.org/en/latest/modules/regularization.html\n",
        "   * Dropout - to prevent overfitting\n",
        "     * `lasagne.layers.DropoutLayer(prev_layer, p=probability_to_zero_out)`   \n",
        "     * Don't overdo it. Check if it actually makes your network better\n",
        "\n",
        "\n",
        " * __Data augmemntation__ - getting 5x as large dataset for free is a great deal\n",
        "   * Zoom-in+slice = move\n",
        "   * Rotate+zoom(to remove black stripes)\n",
        "   * any other perturbations\n",
        "   * Add Noize (easiest: GaussianNoizeLayer)\n",
        "   * Simple way to do that (if you have PIL/Image): \n",
        "     * ```from scipy.misc import imrotate,imresize```\n",
        "     * and a few slicing\n",
        "   * Stay realistic. There's usually no point in flipping dogs upside down as that is not the way you usually see them.\n",
        "\n",
        "\n"
      ]
    }
  ]
}